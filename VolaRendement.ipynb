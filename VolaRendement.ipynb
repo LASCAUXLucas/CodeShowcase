{
 "cells": [
  {
   "cell_type": "code",
   "execution_count": null,
   "metadata": {},
   "outputs": [],
   "source": [
    "import pandas as pd\n",
    "import numpy as np\n",
    "import scipy as sp\n",
    "from datetime import datetime\n",
    "import MetaTrader5 as mt5\n",
    "import matplotlib.pyplot as plt\n",
    "import statsmodels.api as sm"
   ]
  },
  {
   "cell_type": "code",
   "execution_count": null,
   "metadata": {},
   "outputs": [],
   "source": [
    "def get_clean_mt5_data(tickers, interval, n_bars=99999, window = 10, shift= -5):\n",
    "    datas = []\n",
    "    for ticker in tickers:\n",
    "        data = pd.DataFrame(mt5.copy_rates_from(ticker, interval, datetime.now(), n_bars))\n",
    "        data['time'] = pd.to_datetime(data['time'], unit='s')\n",
    "        data['symbol'] = np.full(shape=len(data), fill_value=ticker)\n",
    "        data = data.drop(['real_volume'], axis=1)\n",
    "        datas.append(data)\n",
    "\n",
    "    data = pd.concat(datas, axis=0)\n",
    "    data = data.set_index(['symbol', 'time'])\n",
    "\n",
    "    # Calculating volatility\n",
    "    data['returns'] = data['close'].pct_change()\n",
    "    data['volatility'] = data['returns'].rolling(window=window).std()\n",
    "\n",
    "    # Calculating extended returns\n",
    "    data['extended_returns'] = data['returns'].shift(shift)\n",
    "\n",
    "    # Keep only the volatility and extended_returns columns\n",
    "    data = data[['volatility', 'extended_returns']]\n",
    "    data = data.dropna(subset=['volatility','extended_returns'], how='any')\n",
    "\n",
    "    return data"
   ]
  },
  {
   "cell_type": "code",
   "execution_count": null,
   "metadata": {},
   "outputs": [],
   "source": [
    "tickers = ['GBPUSD','USDJPY']\n",
    "mt5.initialize()\n",
    "\n",
    "login_mt5 = 1051534030\n",
    "mdp_mt5 = 'FG2SF2M74R'\n",
    "server = 'FTMO-Demo'\n",
    "\n",
    "mt5.login(login_mt5, mdp_mt5, server)"
   ]
  },
  {
   "cell_type": "code",
   "execution_count": null,
   "metadata": {},
   "outputs": [],
   "source": [
    "data = get_clean_mt5_data(tickers, interval=mt5.TIMEFRAME_H4, n_bars=8000, window=10, shift = -4)"
   ]
  },
  {
   "cell_type": "code",
   "execution_count": null,
   "metadata": {},
   "outputs": [],
   "source": [
    "\n",
    "mediane = np.median(data['volatility'])\n",
    "\n",
    "mad = np.median(np.abs(data['volatility'] - mediane))\n",
    "\n",
    "borne_seuil = 3 * mad\n",
    "\n",
    "valeurs_aberrantes = data['volatility'][np.abs(data['volatility'] - mediane) > borne_seuil]\n",
    "\n",
    "data = data[~np.isin(data['volatility'], valeurs_aberrantes)]"
   ]
  },
  {
   "cell_type": "code",
   "execution_count": null,
   "metadata": {},
   "outputs": [],
   "source": [
    "volatility_min = np.min(data['volatility'])\n",
    "volatility_max = np.max(data['volatility'])\n",
    "extended_returns_min = np.min(data['extended_returns'])\n",
    "extended_returns_max = np.max(data['extended_returns'])\n",
    "\n",
    "print(\"Volatilité - Min :\", volatility_min)\n",
    "print(\"Volatilité - Max :\", volatility_max)\n",
    "print(\"Extended Returns - Min :\", extended_returns_min)\n",
    "print(\"Extended Returns - Max :\", extended_returns_max)"
   ]
  },
  {
   "attachments": {},
   "cell_type": "markdown",
   "metadata": {},
   "source": [
    "Fonction Corrélation"
   ]
  },
  {
   "cell_type": "code",
   "execution_count": null,
   "metadata": {},
   "outputs": [],
   "source": [
    "def calculate_correlations(data):\n",
    "    correlation_spearman = data['extended_returns'].corr(data['volatility'], method='spearman')\n",
    "    correlation_kendall = data['extended_returns'].corr(data['volatility'], method='kendall')\n",
    "    correlation_pearson = data['extended_returns'].corr(data['volatility'], method='pearson')\n",
    "\n",
    "\n",
    "\n",
    "    data['Constant'] = 1\n",
    "    y = data['extended_returns']\n",
    "    X = data[['volatility', 'Constant']]\n",
    "    model = sm.OLS(y, X)\n",
    "    results = model.fit()\n",
    "    coefficients = results.params\n",
    "    correlation_regression = coefficients[0]\n",
    "\n",
    "    return correlation_spearman, correlation_kendall, correlation_pearson, correlation_regression\n",
    "\n",
    "\n"
   ]
  },
  {
   "attachments": {},
   "cell_type": "markdown",
   "metadata": {},
   "source": [
    "Calcule corrélations (4 méthodes) pour chaque window/shift"
   ]
  },
  {
   "cell_type": "code",
   "execution_count": null,
   "metadata": {},
   "outputs": [],
   "source": [
    "\n",
    "\n",
    "\n",
    "corr_table = pd.DataFrame(columns=[\"Window/Shift\", \"Spearman\", \"Kendall\", \"Pearson\", \"Regression\"])\n",
    "\n",
    "for window in range(3, 15):\n",
    "    for shift in range(-2, -6, -1):\n",
    "        \n",
    "        data = get_clean_mt5_data(tickers, interval=mt5.TIMEFRAME_H4, n_bars=8000, window=window, shift=shift)\n",
    "\n",
    "    \n",
    "        correlation_spearman, correlation_kendall, correlation_pearson, correlation_regression = calculate_correlations(data)\n",
    "\n",
    "        \n",
    "        temp_df = pd.DataFrame({\"Window/Shift\": f\"Window {window} Shift {shift}\",\n",
    "                                \"Spearman\": correlation_spearman,\n",
    "                                \"Kendall\": correlation_kendall,\n",
    "                                \"Pearson\": correlation_pearson,\n",
    "                                \"Regression\": correlation_regression}, index=[0])\n",
    "\n",
    "        corr_table = pd.concat([corr_table, temp_df], ignore_index=True)\n",
    "\n",
    "\n",
    "print(corr_table)\n"
   ]
  },
  {
   "cell_type": "code",
   "execution_count": null,
   "metadata": {},
   "outputs": [],
   "source": [
    "extended_returns = [10, 20, 30, 40, 50, 60, 70, 80]\n",
    "volatility = [0.0005, 0.001, 0.0015, 0.0020, 0.0025, 0.003]\n",
    "\n",
    "plt.scatter(volatility, extended_returns)\n",
    "plt.xlabel('Volatility')\n",
    "plt.ylabel('Extended Returns')\n",
    "plt.title('Relation entre Volatility et Extended Returns')\n",
    "plt.grid(True)\n",
    "plt.show()"
   ]
  },
  {
   "cell_type": "code",
   "execution_count": null,
   "metadata": {},
   "outputs": [],
   "source": []
  }
 ],
 "metadata": {
  "language_info": {
   "name": "python"
  },
  "orig_nbformat": 4
 },
 "nbformat": 4,
 "nbformat_minor": 2
}
